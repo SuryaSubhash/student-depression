{
 "cells": [
  {
   "cell_type": "code",
   "execution_count": 1,
   "id": "7029bcec-03d2-465b-9580-0c6daa14c290",
   "metadata": {},
   "outputs": [
    {
     "data": {
      "text/html": [
       "<div>\n",
       "<style scoped>\n",
       "    .dataframe tbody tr th:only-of-type {\n",
       "        vertical-align: middle;\n",
       "    }\n",
       "\n",
       "    .dataframe tbody tr th {\n",
       "        vertical-align: top;\n",
       "    }\n",
       "\n",
       "    .dataframe thead th {\n",
       "        text-align: right;\n",
       "    }\n",
       "</style>\n",
       "<table border=\"1\" class=\"dataframe\">\n",
       "  <thead>\n",
       "    <tr style=\"text-align: right;\">\n",
       "      <th></th>\n",
       "      <th>id</th>\n",
       "      <th>Gender</th>\n",
       "      <th>Age</th>\n",
       "      <th>City</th>\n",
       "      <th>Profession</th>\n",
       "      <th>Academic Pressure</th>\n",
       "      <th>Work Pressure</th>\n",
       "      <th>CGPA</th>\n",
       "      <th>Study Satisfaction</th>\n",
       "      <th>Job Satisfaction</th>\n",
       "      <th>Sleep Duration</th>\n",
       "      <th>Dietary Habits</th>\n",
       "      <th>Degree</th>\n",
       "      <th>Have you ever had suicidal thoughts ?</th>\n",
       "      <th>Work/Study Hours</th>\n",
       "      <th>Financial Stress</th>\n",
       "      <th>Family History of Mental Illness</th>\n",
       "      <th>Depression</th>\n",
       "    </tr>\n",
       "  </thead>\n",
       "  <tbody>\n",
       "    <tr>\n",
       "      <th>0</th>\n",
       "      <td>2</td>\n",
       "      <td>Male</td>\n",
       "      <td>33</td>\n",
       "      <td>Visakhapatnam</td>\n",
       "      <td>Student</td>\n",
       "      <td>5</td>\n",
       "      <td>0</td>\n",
       "      <td>8.97</td>\n",
       "      <td>2</td>\n",
       "      <td>0</td>\n",
       "      <td>5-6 hours</td>\n",
       "      <td>Healthy</td>\n",
       "      <td>B.Pharm</td>\n",
       "      <td>Yes</td>\n",
       "      <td>3</td>\n",
       "      <td>1.0</td>\n",
       "      <td>No</td>\n",
       "      <td>1</td>\n",
       "    </tr>\n",
       "    <tr>\n",
       "      <th>1</th>\n",
       "      <td>8</td>\n",
       "      <td>Female</td>\n",
       "      <td>24</td>\n",
       "      <td>Bangalore</td>\n",
       "      <td>Student</td>\n",
       "      <td>2</td>\n",
       "      <td>0</td>\n",
       "      <td>5.90</td>\n",
       "      <td>5</td>\n",
       "      <td>0</td>\n",
       "      <td>5-6 hours</td>\n",
       "      <td>Moderate</td>\n",
       "      <td>BSc</td>\n",
       "      <td>No</td>\n",
       "      <td>3</td>\n",
       "      <td>2.0</td>\n",
       "      <td>Yes</td>\n",
       "      <td>0</td>\n",
       "    </tr>\n",
       "    <tr>\n",
       "      <th>2</th>\n",
       "      <td>26</td>\n",
       "      <td>Male</td>\n",
       "      <td>31</td>\n",
       "      <td>Srinagar</td>\n",
       "      <td>Student</td>\n",
       "      <td>3</td>\n",
       "      <td>0</td>\n",
       "      <td>7.03</td>\n",
       "      <td>5</td>\n",
       "      <td>0</td>\n",
       "      <td>Less than 5 hours</td>\n",
       "      <td>Healthy</td>\n",
       "      <td>BA</td>\n",
       "      <td>No</td>\n",
       "      <td>9</td>\n",
       "      <td>1.0</td>\n",
       "      <td>Yes</td>\n",
       "      <td>0</td>\n",
       "    </tr>\n",
       "    <tr>\n",
       "      <th>3</th>\n",
       "      <td>30</td>\n",
       "      <td>Female</td>\n",
       "      <td>28</td>\n",
       "      <td>Varanasi</td>\n",
       "      <td>Student</td>\n",
       "      <td>3</td>\n",
       "      <td>0</td>\n",
       "      <td>5.59</td>\n",
       "      <td>2</td>\n",
       "      <td>0</td>\n",
       "      <td>7-8 hours</td>\n",
       "      <td>Moderate</td>\n",
       "      <td>BCA</td>\n",
       "      <td>Yes</td>\n",
       "      <td>4</td>\n",
       "      <td>5.0</td>\n",
       "      <td>Yes</td>\n",
       "      <td>1</td>\n",
       "    </tr>\n",
       "    <tr>\n",
       "      <th>4</th>\n",
       "      <td>32</td>\n",
       "      <td>Female</td>\n",
       "      <td>25</td>\n",
       "      <td>Jaipur</td>\n",
       "      <td>Student</td>\n",
       "      <td>4</td>\n",
       "      <td>0</td>\n",
       "      <td>8.13</td>\n",
       "      <td>3</td>\n",
       "      <td>0</td>\n",
       "      <td>5-6 hours</td>\n",
       "      <td>Moderate</td>\n",
       "      <td>M.Tech</td>\n",
       "      <td>Yes</td>\n",
       "      <td>1</td>\n",
       "      <td>1.0</td>\n",
       "      <td>No</td>\n",
       "      <td>0</td>\n",
       "    </tr>\n",
       "  </tbody>\n",
       "</table>\n",
       "</div>"
      ],
      "text/plain": [
       "   id  Gender  Age           City Profession  Academic Pressure  \\\n",
       "0   2    Male   33  Visakhapatnam    Student                  5   \n",
       "1   8  Female   24      Bangalore    Student                  2   \n",
       "2  26    Male   31       Srinagar    Student                  3   \n",
       "3  30  Female   28       Varanasi    Student                  3   \n",
       "4  32  Female   25         Jaipur    Student                  4   \n",
       "\n",
       "   Work Pressure  CGPA  Study Satisfaction  Job Satisfaction  \\\n",
       "0              0  8.97                   2                 0   \n",
       "1              0  5.90                   5                 0   \n",
       "2              0  7.03                   5                 0   \n",
       "3              0  5.59                   2                 0   \n",
       "4              0  8.13                   3                 0   \n",
       "\n",
       "      Sleep Duration Dietary Habits   Degree  \\\n",
       "0          5-6 hours        Healthy  B.Pharm   \n",
       "1          5-6 hours       Moderate      BSc   \n",
       "2  Less than 5 hours        Healthy       BA   \n",
       "3          7-8 hours       Moderate      BCA   \n",
       "4          5-6 hours       Moderate   M.Tech   \n",
       "\n",
       "  Have you ever had suicidal thoughts ?  Work/Study Hours  Financial Stress  \\\n",
       "0                                   Yes                 3               1.0   \n",
       "1                                    No                 3               2.0   \n",
       "2                                    No                 9               1.0   \n",
       "3                                   Yes                 4               5.0   \n",
       "4                                   Yes                 1               1.0   \n",
       "\n",
       "  Family History of Mental Illness  Depression  \n",
       "0                               No           1  \n",
       "1                              Yes           0  \n",
       "2                              Yes           0  \n",
       "3                              Yes           1  \n",
       "4                               No           0  "
      ]
     },
     "execution_count": 1,
     "metadata": {},
     "output_type": "execute_result"
    }
   ],
   "source": [
    "import pandas as pd\n",
    "import matplotlib.pyplot as plt\n",
    "import seaborn as sns\n",
    "from sklearn.preprocessing import StandardScaler\n",
    "from sklearn.preprocessing import OneHotEncoder\n",
    "from sklearn.model_selection import train_test_split\n",
    "from sklearn.linear_model import LogisticRegression\n",
    "from sklearn.metrics import confusion_matrix\n",
    "import warnings\n",
    "\n",
    "warnings.filterwarnings('ignore', category=FutureWarning)\n",
    "main=pd.read_csv(\"C:\\\\Users\\\\surya\\\\Downloads\\\\student depression.csv\")\n",
    "main.head()"
   ]
  },
  {
   "cell_type": "code",
   "execution_count": 3,
   "id": "0cbd83bd-8f72-479b-8b4f-394b590d93d0",
   "metadata": {},
   "outputs": [
    {
     "data": {
      "text/html": [
       "<div>\n",
       "<style scoped>\n",
       "    .dataframe tbody tr th:only-of-type {\n",
       "        vertical-align: middle;\n",
       "    }\n",
       "\n",
       "    .dataframe tbody tr th {\n",
       "        vertical-align: top;\n",
       "    }\n",
       "\n",
       "    .dataframe thead th {\n",
       "        text-align: right;\n",
       "    }\n",
       "</style>\n",
       "<table border=\"1\" class=\"dataframe\">\n",
       "  <thead>\n",
       "    <tr style=\"text-align: right;\">\n",
       "      <th></th>\n",
       "      <th>Gender</th>\n",
       "      <th>Age</th>\n",
       "      <th>City</th>\n",
       "      <th>Profession</th>\n",
       "      <th>Academic Pressure</th>\n",
       "      <th>Work Pressure</th>\n",
       "      <th>CGPA</th>\n",
       "      <th>Study Satisfaction</th>\n",
       "      <th>Job Satisfaction</th>\n",
       "      <th>Sleep Duration</th>\n",
       "      <th>Dietary Habits</th>\n",
       "      <th>Degree</th>\n",
       "      <th>Have you ever had suicidal thoughts ?</th>\n",
       "      <th>Work/Study Hours</th>\n",
       "      <th>Financial Stress</th>\n",
       "      <th>Family History of Mental Illness</th>\n",
       "      <th>Depression</th>\n",
       "    </tr>\n",
       "  </thead>\n",
       "  <tbody>\n",
       "    <tr>\n",
       "      <th>0</th>\n",
       "      <td>0</td>\n",
       "      <td>33</td>\n",
       "      <td>Visakhapatnam</td>\n",
       "      <td>Student</td>\n",
       "      <td>5</td>\n",
       "      <td>0</td>\n",
       "      <td>8.97</td>\n",
       "      <td>2</td>\n",
       "      <td>0</td>\n",
       "      <td>5-6 hours</td>\n",
       "      <td>Healthy</td>\n",
       "      <td>B.Pharm</td>\n",
       "      <td>Yes</td>\n",
       "      <td>3</td>\n",
       "      <td>1.0</td>\n",
       "      <td>No</td>\n",
       "      <td>1</td>\n",
       "    </tr>\n",
       "    <tr>\n",
       "      <th>1</th>\n",
       "      <td>1</td>\n",
       "      <td>24</td>\n",
       "      <td>Bangalore</td>\n",
       "      <td>Student</td>\n",
       "      <td>2</td>\n",
       "      <td>0</td>\n",
       "      <td>5.90</td>\n",
       "      <td>5</td>\n",
       "      <td>0</td>\n",
       "      <td>5-6 hours</td>\n",
       "      <td>Moderate</td>\n",
       "      <td>BSc</td>\n",
       "      <td>No</td>\n",
       "      <td>3</td>\n",
       "      <td>2.0</td>\n",
       "      <td>Yes</td>\n",
       "      <td>0</td>\n",
       "    </tr>\n",
       "    <tr>\n",
       "      <th>2</th>\n",
       "      <td>0</td>\n",
       "      <td>31</td>\n",
       "      <td>Srinagar</td>\n",
       "      <td>Student</td>\n",
       "      <td>3</td>\n",
       "      <td>0</td>\n",
       "      <td>7.03</td>\n",
       "      <td>5</td>\n",
       "      <td>0</td>\n",
       "      <td>Less than 5 hours</td>\n",
       "      <td>Healthy</td>\n",
       "      <td>BA</td>\n",
       "      <td>No</td>\n",
       "      <td>9</td>\n",
       "      <td>1.0</td>\n",
       "      <td>Yes</td>\n",
       "      <td>0</td>\n",
       "    </tr>\n",
       "  </tbody>\n",
       "</table>\n",
       "</div>"
      ],
      "text/plain": [
       "  Gender  Age           City Profession  Academic Pressure  Work Pressure  \\\n",
       "0      0   33  Visakhapatnam    Student                  5              0   \n",
       "1      1   24      Bangalore    Student                  2              0   \n",
       "2      0   31       Srinagar    Student                  3              0   \n",
       "\n",
       "   CGPA  Study Satisfaction  Job Satisfaction     Sleep Duration  \\\n",
       "0  8.97                   2                 0          5-6 hours   \n",
       "1  5.90                   5                 0          5-6 hours   \n",
       "2  7.03                   5                 0  Less than 5 hours   \n",
       "\n",
       "  Dietary Habits   Degree Have you ever had suicidal thoughts ?  \\\n",
       "0        Healthy  B.Pharm                                   Yes   \n",
       "1       Moderate      BSc                                    No   \n",
       "2        Healthy       BA                                    No   \n",
       "\n",
       "   Work/Study Hours  Financial Stress Family History of Mental Illness  \\\n",
       "0                 3               1.0                               No   \n",
       "1                 3               2.0                              Yes   \n",
       "2                 9               1.0                              Yes   \n",
       "\n",
       "   Depression  \n",
       "0           1  \n",
       "1           0  \n",
       "2           0  "
      ]
     },
     "execution_count": 3,
     "metadata": {},
     "output_type": "execute_result"
    }
   ],
   "source": [
    "main = main.drop(['id'], axis=1)\n",
    "\n",
    "main.loc[main['Gender'] == 'Male', 'Gender'] = 0\n",
    "main.loc[main['Gender'] == 'Female', 'Gender'] = 1\n",
    "main.head(3)"
   ]
  },
  {
   "cell_type": "code",
   "execution_count": 5,
   "id": "97921627-4ed2-4ef2-a38a-812803a530d8",
   "metadata": {},
   "outputs": [
    {
     "data": {
      "text/plain": [
       "City\n",
       "Kalyan                1570\n",
       "Srinagar              1372\n",
       "Hyderabad             1340\n",
       "Vasai-Virar           1290\n",
       "Lucknow               1155\n",
       "Thane                 1139\n",
       "Ludhiana              1111\n",
       "Agra                  1094\n",
       "Surat                 1078\n",
       "Kolkata               1066\n",
       "Jaipur                1036\n",
       "Patna                 1007\n",
       "Visakhapatnam          969\n",
       "Pune                   968\n",
       "Ahmedabad              951\n",
       "Bhopal                 934\n",
       "Chennai                885\n",
       "Meerut                 825\n",
       "Rajkot                 816\n",
       "Delhi                  768\n",
       "Bangalore              767\n",
       "Ghaziabad              745\n",
       "Mumbai                 699\n",
       "Vadodara               694\n",
       "Varanasi               685\n",
       "Nagpur                 651\n",
       "Indore                 643\n",
       "Kanpur                 609\n",
       "Nashik                 547\n",
       "Faridabad              461\n",
       "Saanvi                   2\n",
       "Bhavna                   2\n",
       "City                     2\n",
       "Harsha                   2\n",
       "Kibara                   1\n",
       "Nandini                  1\n",
       "Nalini                   1\n",
       "Mihir                    1\n",
       "Nalyan                   1\n",
       "M.Com                    1\n",
       "ME                       1\n",
       "Rashi                    1\n",
       "Gaurav                   1\n",
       "Reyansh                  1\n",
       "Harsh                    1\n",
       "Vaanya                   1\n",
       "Mira                     1\n",
       "Less than 5 Kalyan       1\n",
       "3                        1\n",
       "Less Delhi               1\n",
       "M.Tech                   1\n",
       "Khaziabad                1\n",
       "Name: count, dtype: int64"
      ]
     },
     "execution_count": 5,
     "metadata": {},
     "output_type": "execute_result"
    }
   ],
   "source": [
    "main['City'].value_counts()"
   ]
  },
  {
   "cell_type": "code",
   "execution_count": 7,
   "id": "c0ac3039-73ef-44ff-8ed6-38cdba6856de",
   "metadata": {},
   "outputs": [
    {
     "data": {
      "text/plain": [
       "City\n",
       "Kalyan           1570\n",
       "Srinagar         1372\n",
       "Hyderabad        1340\n",
       "Vasai-Virar      1290\n",
       "Lucknow          1155\n",
       "Thane            1139\n",
       "Ludhiana         1111\n",
       "Agra             1094\n",
       "Surat            1078\n",
       "Kolkata          1066\n",
       "Jaipur           1036\n",
       "Patna            1007\n",
       "Visakhapatnam     969\n",
       "Pune              968\n",
       "Ahmedabad         951\n",
       "Bhopal            934\n",
       "Chennai           885\n",
       "Meerut            825\n",
       "Rajkot            816\n",
       "Delhi             768\n",
       "Bangalore         767\n",
       "Ghaziabad         745\n",
       "Mumbai            699\n",
       "Vadodara          694\n",
       "Varanasi          685\n",
       "Nagpur            651\n",
       "Indore            643\n",
       "Kanpur            609\n",
       "Nashik            547\n",
       "Faridabad         461\n",
       "Name: count, dtype: int64"
      ]
     },
     "execution_count": 7,
     "metadata": {},
     "output_type": "execute_result"
    }
   ],
   "source": [
    "cities_to_remove = main['City'].value_counts()[main['City'].value_counts() < 400]\n",
    "main = main[~main['City'].isin(cities_to_remove.index)]\n",
    "main['City'].value_counts()"
   ]
  },
  {
   "cell_type": "code",
   "execution_count": 9,
   "id": "679ca441-3bae-416d-9d44-8b0a2d839bc9",
   "metadata": {},
   "outputs": [
    {
     "data": {
      "text/plain": [
       "Profession\n",
       "Student                   27844\n",
       "Architect                     8\n",
       "Teacher                       6\n",
       "Digital Marketer              3\n",
       "Content Writer                2\n",
       "Chef                          2\n",
       "Doctor                        2\n",
       "Pharmacist                    2\n",
       "Civil Engineer                1\n",
       "UX/UI Designer                1\n",
       "Educational Consultant        1\n",
       "Manager                       1\n",
       "Lawyer                        1\n",
       "Entrepreneur                  1\n",
       "Name: count, dtype: int64"
      ]
     },
     "execution_count": 9,
     "metadata": {},
     "output_type": "execute_result"
    }
   ],
   "source": [
    "main['Profession'].value_counts()"
   ]
  },
  {
   "cell_type": "code",
   "execution_count": 11,
   "id": "94a1e148-e9fb-413d-8d28-1c7da41fe800",
   "metadata": {},
   "outputs": [
    {
     "data": {
      "text/plain": [
       "Profession\n",
       "Student    27844\n",
       "Name: count, dtype: int64"
      ]
     },
     "execution_count": 11,
     "metadata": {},
     "output_type": "execute_result"
    }
   ],
   "source": [
    "main = main.loc[main['Profession'] == 'Student']\n",
    "main['Profession'].value_counts()"
   ]
  },
  {
   "cell_type": "code",
   "execution_count": 13,
   "id": "b4fb9b11-a546-4a83-b1d3-c8f582594921",
   "metadata": {},
   "outputs": [],
   "source": [
    "main = main.drop(['Profession'], axis=1)"
   ]
  },
  {
   "cell_type": "code",
   "execution_count": 15,
   "id": "8f3e0219-12ec-43b1-b8d4-2a3c0c5c149d",
   "metadata": {},
   "outputs": [
    {
     "data": {
      "text/plain": [
       "Work Pressure\n",
       "0    27841\n",
       "5        2\n",
       "2        1\n",
       "Name: count, dtype: int64"
      ]
     },
     "execution_count": 15,
     "metadata": {},
     "output_type": "execute_result"
    }
   ],
   "source": [
    "main['Work Pressure'].value_counts()"
   ]
  },
  {
   "cell_type": "code",
   "execution_count": 17,
   "id": "635a2e94-9146-4121-8473-bad6372b0966",
   "metadata": {},
   "outputs": [
    {
     "data": {
      "text/html": [
       "<div>\n",
       "<style scoped>\n",
       "    .dataframe tbody tr th:only-of-type {\n",
       "        vertical-align: middle;\n",
       "    }\n",
       "\n",
       "    .dataframe tbody tr th {\n",
       "        vertical-align: top;\n",
       "    }\n",
       "\n",
       "    .dataframe thead th {\n",
       "        text-align: right;\n",
       "    }\n",
       "</style>\n",
       "<table border=\"1\" class=\"dataframe\">\n",
       "  <thead>\n",
       "    <tr style=\"text-align: right;\">\n",
       "      <th></th>\n",
       "      <th>Gender</th>\n",
       "      <th>Age</th>\n",
       "      <th>City</th>\n",
       "      <th>Academic Pressure</th>\n",
       "      <th>CGPA</th>\n",
       "      <th>Study Satisfaction</th>\n",
       "      <th>Job Satisfaction</th>\n",
       "      <th>Sleep Duration</th>\n",
       "      <th>Dietary Habits</th>\n",
       "      <th>Degree</th>\n",
       "      <th>Have you ever had suicidal thoughts ?</th>\n",
       "      <th>Work/Study Hours</th>\n",
       "      <th>Financial Stress</th>\n",
       "      <th>Family History of Mental Illness</th>\n",
       "      <th>Depression</th>\n",
       "    </tr>\n",
       "  </thead>\n",
       "  <tbody>\n",
       "    <tr>\n",
       "      <th>0</th>\n",
       "      <td>0</td>\n",
       "      <td>33</td>\n",
       "      <td>Visakhapatnam</td>\n",
       "      <td>5</td>\n",
       "      <td>8.97</td>\n",
       "      <td>2</td>\n",
       "      <td>0</td>\n",
       "      <td>5-6 hours</td>\n",
       "      <td>Healthy</td>\n",
       "      <td>B.Pharm</td>\n",
       "      <td>Yes</td>\n",
       "      <td>3</td>\n",
       "      <td>1.0</td>\n",
       "      <td>No</td>\n",
       "      <td>1</td>\n",
       "    </tr>\n",
       "    <tr>\n",
       "      <th>1</th>\n",
       "      <td>1</td>\n",
       "      <td>24</td>\n",
       "      <td>Bangalore</td>\n",
       "      <td>2</td>\n",
       "      <td>5.90</td>\n",
       "      <td>5</td>\n",
       "      <td>0</td>\n",
       "      <td>5-6 hours</td>\n",
       "      <td>Moderate</td>\n",
       "      <td>BSc</td>\n",
       "      <td>No</td>\n",
       "      <td>3</td>\n",
       "      <td>2.0</td>\n",
       "      <td>Yes</td>\n",
       "      <td>0</td>\n",
       "    </tr>\n",
       "    <tr>\n",
       "      <th>2</th>\n",
       "      <td>0</td>\n",
       "      <td>31</td>\n",
       "      <td>Srinagar</td>\n",
       "      <td>3</td>\n",
       "      <td>7.03</td>\n",
       "      <td>5</td>\n",
       "      <td>0</td>\n",
       "      <td>Less than 5 hours</td>\n",
       "      <td>Healthy</td>\n",
       "      <td>BA</td>\n",
       "      <td>No</td>\n",
       "      <td>9</td>\n",
       "      <td>1.0</td>\n",
       "      <td>Yes</td>\n",
       "      <td>0</td>\n",
       "    </tr>\n",
       "  </tbody>\n",
       "</table>\n",
       "</div>"
      ],
      "text/plain": [
       "  Gender  Age           City  Academic Pressure  CGPA  Study Satisfaction  \\\n",
       "0      0   33  Visakhapatnam                  5  8.97                   2   \n",
       "1      1   24      Bangalore                  2  5.90                   5   \n",
       "2      0   31       Srinagar                  3  7.03                   5   \n",
       "\n",
       "   Job Satisfaction     Sleep Duration Dietary Habits   Degree  \\\n",
       "0                 0          5-6 hours        Healthy  B.Pharm   \n",
       "1                 0          5-6 hours       Moderate      BSc   \n",
       "2                 0  Less than 5 hours        Healthy       BA   \n",
       "\n",
       "  Have you ever had suicidal thoughts ?  Work/Study Hours  Financial Stress  \\\n",
       "0                                   Yes                 3               1.0   \n",
       "1                                    No                 3               2.0   \n",
       "2                                    No                 9               1.0   \n",
       "\n",
       "  Family History of Mental Illness  Depression  \n",
       "0                               No           1  \n",
       "1                              Yes           0  \n",
       "2                              Yes           0  "
      ]
     },
     "execution_count": 17,
     "metadata": {},
     "output_type": "execute_result"
    }
   ],
   "source": [
    "main = main.drop(['Work Pressure'], axis=1)\n",
    "main.head(3)"
   ]
  },
  {
   "cell_type": "code",
   "execution_count": 19,
   "id": "689f99f8-ea6d-4411-97db-bcd361757ce3",
   "metadata": {},
   "outputs": [
    {
     "data": {
      "text/plain": [
       "Age\n",
       "24    2255\n",
       "20    2235\n",
       "28    2128\n",
       "29    1940\n",
       "33    1892\n",
       "25    1780\n",
       "21    1718\n",
       "23    1640\n",
       "18    1586\n",
       "19    1560\n",
       "34    1466\n",
       "27    1459\n",
       "31    1422\n",
       "32    1258\n",
       "22    1159\n",
       "26    1153\n",
       "30    1144\n",
       "35      10\n",
       "38       8\n",
       "36       7\n",
       "42       4\n",
       "48       3\n",
       "39       3\n",
       "43       2\n",
       "46       2\n",
       "37       2\n",
       "49       1\n",
       "51       1\n",
       "44       1\n",
       "59       1\n",
       "54       1\n",
       "58       1\n",
       "56       1\n",
       "41       1\n",
       "Name: count, dtype: int64"
      ]
     },
     "execution_count": 19,
     "metadata": {},
     "output_type": "execute_result"
    }
   ],
   "source": [
    "main['Age'].value_counts()"
   ]
  },
  {
   "cell_type": "code",
   "execution_count": 21,
   "id": "77891c46-e16c-42c7-843d-9f967f189aba",
   "metadata": {},
   "outputs": [
    {
     "data": {
      "text/plain": [
       "Age\n",
       "24    2255\n",
       "20    2235\n",
       "28    2128\n",
       "29    1940\n",
       "25    1780\n",
       "21    1718\n",
       "23    1640\n",
       "18    1586\n",
       "19    1560\n",
       "27    1459\n",
       "22    1159\n",
       "26    1153\n",
       "30    1144\n",
       "Name: count, dtype: int64"
      ]
     },
     "execution_count": 21,
     "metadata": {},
     "output_type": "execute_result"
    }
   ],
   "source": [
    "main = main.loc[main['Age'] <= 30]\n",
    "main['Age'].value_counts()"
   ]
  },
  {
   "cell_type": "code",
   "execution_count": 23,
   "id": "65d52de2-57fd-4f4b-b87e-6fb49956750c",
   "metadata": {},
   "outputs": [
    {
     "data": {
      "text/plain": [
       "Academic Pressure\n",
       "3    5785\n",
       "5    5167\n",
       "4    4112\n",
       "1    3546\n",
       "2    3140\n",
       "0       7\n",
       "Name: count, dtype: int64"
      ]
     },
     "execution_count": 23,
     "metadata": {},
     "output_type": "execute_result"
    }
   ],
   "source": [
    "main['Academic Pressure'].value_counts()"
   ]
  },
  {
   "cell_type": "code",
   "execution_count": 25,
   "id": "6590fda8-70bf-4a7a-916e-3c3689fb0dbc",
   "metadata": {},
   "outputs": [
    {
     "data": {
      "text/plain": [
       "Academic Pressure\n",
       "3    5785\n",
       "5    5167\n",
       "4    4112\n",
       "1    3546\n",
       "2    3140\n",
       "Name: count, dtype: int64"
      ]
     },
     "execution_count": 25,
     "metadata": {},
     "output_type": "execute_result"
    }
   ],
   "source": [
    "main = main.loc[main['Academic Pressure'] > 0]\n",
    "main['Academic Pressure'].value_counts()"
   ]
  },
  {
   "cell_type": "code",
   "execution_count": 27,
   "id": "993e4804-8dc1-42f5-96df-ea6adb0912a8",
   "metadata": {},
   "outputs": [
    {
     "data": {
      "text/plain": [
       "Study Satisfaction\n",
       "4    4825\n",
       "2    4686\n",
       "3    4448\n",
       "1    4336\n",
       "5    3453\n",
       "0       2\n",
       "Name: count, dtype: int64"
      ]
     },
     "execution_count": 27,
     "metadata": {},
     "output_type": "execute_result"
    }
   ],
   "source": [
    "main['Study Satisfaction'].value_counts()"
   ]
  },
  {
   "cell_type": "code",
   "execution_count": 29,
   "id": "16eb232c-c99f-47af-b80e-96cf211a49e6",
   "metadata": {},
   "outputs": [
    {
     "data": {
      "text/plain": [
       "Study Satisfaction\n",
       "4    4825\n",
       "2    4686\n",
       "3    4448\n",
       "1    4336\n",
       "5    3453\n",
       "Name: count, dtype: int64"
      ]
     },
     "execution_count": 29,
     "metadata": {},
     "output_type": "execute_result"
    }
   ],
   "source": [
    "main = main.loc[main['Study Satisfaction'] > 0]\n",
    "main['Study Satisfaction'].value_counts()"
   ]
  },
  {
   "cell_type": "code",
   "execution_count": 31,
   "id": "0f0f0b39-871a-4fc8-ba5f-d13fb547958b",
   "metadata": {},
   "outputs": [
    {
     "data": {
      "text/html": [
       "<div>\n",
       "<style scoped>\n",
       "    .dataframe tbody tr th:only-of-type {\n",
       "        vertical-align: middle;\n",
       "    }\n",
       "\n",
       "    .dataframe tbody tr th {\n",
       "        vertical-align: top;\n",
       "    }\n",
       "\n",
       "    .dataframe thead th {\n",
       "        text-align: right;\n",
       "    }\n",
       "</style>\n",
       "<table border=\"1\" class=\"dataframe\">\n",
       "  <thead>\n",
       "    <tr style=\"text-align: right;\">\n",
       "      <th></th>\n",
       "      <th>Gender</th>\n",
       "      <th>Age</th>\n",
       "      <th>City</th>\n",
       "      <th>Academic Pressure</th>\n",
       "      <th>CGPA</th>\n",
       "      <th>Study Satisfaction</th>\n",
       "      <th>Sleep Duration</th>\n",
       "      <th>Dietary Habits</th>\n",
       "      <th>Degree</th>\n",
       "      <th>Have you ever had suicidal thoughts ?</th>\n",
       "      <th>Work/Study Hours</th>\n",
       "      <th>Financial Stress</th>\n",
       "      <th>Family History of Mental Illness</th>\n",
       "      <th>Depression</th>\n",
       "    </tr>\n",
       "  </thead>\n",
       "  <tbody>\n",
       "    <tr>\n",
       "      <th>1</th>\n",
       "      <td>1</td>\n",
       "      <td>24</td>\n",
       "      <td>Bangalore</td>\n",
       "      <td>2</td>\n",
       "      <td>5.90</td>\n",
       "      <td>5</td>\n",
       "      <td>5-6 hours</td>\n",
       "      <td>Moderate</td>\n",
       "      <td>BSc</td>\n",
       "      <td>No</td>\n",
       "      <td>3</td>\n",
       "      <td>2.0</td>\n",
       "      <td>Yes</td>\n",
       "      <td>0</td>\n",
       "    </tr>\n",
       "    <tr>\n",
       "      <th>3</th>\n",
       "      <td>1</td>\n",
       "      <td>28</td>\n",
       "      <td>Varanasi</td>\n",
       "      <td>3</td>\n",
       "      <td>5.59</td>\n",
       "      <td>2</td>\n",
       "      <td>7-8 hours</td>\n",
       "      <td>Moderate</td>\n",
       "      <td>BCA</td>\n",
       "      <td>Yes</td>\n",
       "      <td>4</td>\n",
       "      <td>5.0</td>\n",
       "      <td>Yes</td>\n",
       "      <td>1</td>\n",
       "    </tr>\n",
       "    <tr>\n",
       "      <th>4</th>\n",
       "      <td>1</td>\n",
       "      <td>25</td>\n",
       "      <td>Jaipur</td>\n",
       "      <td>4</td>\n",
       "      <td>8.13</td>\n",
       "      <td>3</td>\n",
       "      <td>5-6 hours</td>\n",
       "      <td>Moderate</td>\n",
       "      <td>M.Tech</td>\n",
       "      <td>Yes</td>\n",
       "      <td>1</td>\n",
       "      <td>1.0</td>\n",
       "      <td>No</td>\n",
       "      <td>0</td>\n",
       "    </tr>\n",
       "  </tbody>\n",
       "</table>\n",
       "</div>"
      ],
      "text/plain": [
       "  Gender  Age       City  Academic Pressure  CGPA  Study Satisfaction  \\\n",
       "1      1   24  Bangalore                  2  5.90                   5   \n",
       "3      1   28   Varanasi                  3  5.59                   2   \n",
       "4      1   25     Jaipur                  4  8.13                   3   \n",
       "\n",
       "  Sleep Duration Dietary Habits  Degree Have you ever had suicidal thoughts ?  \\\n",
       "1      5-6 hours       Moderate     BSc                                    No   \n",
       "3      7-8 hours       Moderate     BCA                                   Yes   \n",
       "4      5-6 hours       Moderate  M.Tech                                   Yes   \n",
       "\n",
       "   Work/Study Hours  Financial Stress Family History of Mental Illness  \\\n",
       "1                 3               2.0                              Yes   \n",
       "3                 4               5.0                              Yes   \n",
       "4                 1               1.0                               No   \n",
       "\n",
       "   Depression  \n",
       "1           0  \n",
       "3           1  \n",
       "4           0  "
      ]
     },
     "execution_count": 31,
     "metadata": {},
     "output_type": "execute_result"
    }
   ],
   "source": [
    "main = main.drop(['Job Satisfaction'], axis=1)\n",
    "main.head(3)"
   ]
  },
  {
   "cell_type": "code",
   "execution_count": 33,
   "id": "dd5b0a45-16a1-4aa5-99b2-00048affea19",
   "metadata": {},
   "outputs": [
    {
     "data": {
      "text/plain": [
       "Sleep Duration\n",
       "Less than 5 hours    6515\n",
       "7-8 hours            5732\n",
       "5-6 hours            4787\n",
       "More than 8 hours    4702\n",
       "Name: count, dtype: int64"
      ]
     },
     "execution_count": 33,
     "metadata": {},
     "output_type": "execute_result"
    }
   ],
   "source": [
    "main['Sleep Duration'].value_counts()\n",
    "main = main.loc[main['Sleep Duration'] != 'Others']\n",
    "main['Sleep Duration'].value_counts()"
   ]
  },
  {
   "cell_type": "code",
   "execution_count": 35,
   "id": "58d485bd-3329-4d15-9cb0-be26c9f9018b",
   "metadata": {},
   "outputs": [
    {
     "data": {
      "text/plain": [
       "Sleep Duration\n",
       "0    6515\n",
       "2    5732\n",
       "1    4787\n",
       "3    4702\n",
       "Name: count, dtype: int64"
      ]
     },
     "execution_count": 35,
     "metadata": {},
     "output_type": "execute_result"
    }
   ],
   "source": [
    "main.loc[main['Sleep Duration'] == 'Less than 5 hours', 'Sleep Duration'] = 0\n",
    "main.loc[main['Sleep Duration'] == '5-6 hours', 'Sleep Duration'] = 1\n",
    "main.loc[main['Sleep Duration'] == '7-8 hours', 'Sleep Duration'] = 2\n",
    "main.loc[main['Sleep Duration'] == 'More than 8 hours', 'Sleep Duration'] = 3\n",
    "main['Sleep Duration'].value_counts()"
   ]
  },
  {
   "cell_type": "code",
   "execution_count": 37,
   "id": "775f2276-47b9-4c33-b0a2-5c8c4ce04663",
   "metadata": {},
   "outputs": [
    {
     "data": {
      "text/plain": [
       "Dietary Habits\n",
       "1         8353\n",
       "2         7591\n",
       "0         5783\n",
       "Others       9\n",
       "Name: count, dtype: int64"
      ]
     },
     "execution_count": 37,
     "metadata": {},
     "output_type": "execute_result"
    }
   ],
   "source": [
    "main.loc[main['Dietary Habits'] == 'Healthy', 'Dietary Habits'] = 0\n",
    "main.loc[main['Dietary Habits'] == 'Unhealthy', 'Dietary Habits'] = 1\n",
    "main.loc[main['Dietary Habits'] == 'Moderate', 'Dietary Habits'] = 2\n",
    "main['Dietary Habits'].value_counts()"
   ]
  },
  {
   "cell_type": "code",
   "execution_count": 39,
   "id": "012b1f4f-2ae1-465d-a697-8a71b139ffa5",
   "metadata": {},
   "outputs": [
    {
     "data": {
      "text/plain": [
       "Dietary Habits\n",
       "1    8353\n",
       "2    7591\n",
       "0    5783\n",
       "Name: count, dtype: int64"
      ]
     },
     "execution_count": 39,
     "metadata": {},
     "output_type": "execute_result"
    }
   ],
   "source": [
    "main = main.loc[main['Dietary Habits'] != 'Others']\n",
    "main['Dietary Habits'].value_counts()"
   ]
  },
  {
   "cell_type": "code",
   "execution_count": 41,
   "id": "6047b37b-69bf-4065-846b-0280f13e6b1f",
   "metadata": {},
   "outputs": [
    {
     "data": {
      "text/plain": [
       "array(['BSc', 'BCA', 'M.Tech', 'PhD', 'Class 12', 'B.Ed', 'M.Ed', 'MSc',\n",
       "       'BHM', 'M.Pharm', 'MCA', 'MA', 'B.Pharm', 'B.Com', 'MD', 'BE',\n",
       "       'BA', 'MBBS', 'B.Arch', 'LLM', 'B.Tech', 'BBA', 'M.Com', 'ME',\n",
       "       'MBA', 'LLB', 'Others', 'MHM'], dtype=object)"
      ]
     },
     "execution_count": 41,
     "metadata": {},
     "output_type": "execute_result"
    }
   ],
   "source": [
    "main['Degree'].unique()"
   ]
  },
  {
   "cell_type": "code",
   "execution_count": 43,
   "id": "e94d3e0e-ef72-413c-b0c3-87e57a87bbbb",
   "metadata": {},
   "outputs": [
    {
     "data": {
      "text/plain": [
       "New_Degree\n",
       "Graduated           9782\n",
       "Higher Secondary    5839\n",
       "Post Graduated      4870\n",
       "Name: count, dtype: int64"
      ]
     },
     "execution_count": 43,
     "metadata": {},
     "output_type": "execute_result"
    }
   ],
   "source": [
    "main.loc[main['Degree'].str.contains(r'BSc|BCA|B.Ed|BHM|B.Pharm|B.Com|BE|BA|B.Arch|B.Tech|BBA|LLB', regex=True), 'New_Degree'] = 'Graduated'\n",
    "main.loc[main['Degree'].str.contains(r'MSc|MCA|M.Ed|M.Pharm|M.Com|ME|MA|M.Arch|M.Tech|MBA|LLM', regex=True), 'New_Degree'] = 'Post Graduated'\n",
    "main.loc[main['Degree'] == 'Class 12', 'New_Degree'] = 'Higher Secondary'\n",
    "main = main.loc[main['Degree'] != 'Others']\n",
    "main['New_Degree'].value_counts()"
   ]
  },
  {
   "cell_type": "code",
   "execution_count": 45,
   "id": "8cdc6e92-255a-4995-a5a2-3872d6f6450e",
   "metadata": {},
   "outputs": [
    {
     "data": {
      "text/plain": [
       "New_Degree\n",
       "0    9782\n",
       "2    5839\n",
       "1    4870\n",
       "Name: count, dtype: int64"
      ]
     },
     "execution_count": 45,
     "metadata": {},
     "output_type": "execute_result"
    }
   ],
   "source": [
    "main.loc[main['New_Degree'] == 'Graduated', 'New_Degree'] = 0\n",
    "main.loc[main['New_Degree'] == 'Post Graduated', 'New_Degree'] = 1\n",
    "main.loc[main['New_Degree'] == 'Higher Secondary', 'New_Degree'] = 2\n",
    "main['New_Degree'].value_counts()"
   ]
  },
  {
   "cell_type": "code",
   "execution_count": 47,
   "id": "d7ef2e36-4d14-4475-b180-b922efa63256",
   "metadata": {},
   "outputs": [
    {
     "data": {
      "text/plain": [
       "Have you ever had suicidal thoughts ?\n",
       "Yes    14265\n",
       "No      7434\n",
       "Name: count, dtype: int64"
      ]
     },
     "execution_count": 47,
     "metadata": {},
     "output_type": "execute_result"
    }
   ],
   "source": [
    "main['Have you ever had suicidal thoughts ?'].value_counts()"
   ]
  },
  {
   "cell_type": "code",
   "execution_count": 49,
   "id": "dbffb04a-cdf6-4283-84e5-add04be09478",
   "metadata": {},
   "outputs": [
    {
     "data": {
      "text/plain": [
       "Have you ever had suicidal thoughts ?\n",
       "1    14265\n",
       "0     7434\n",
       "Name: count, dtype: int64"
      ]
     },
     "execution_count": 49,
     "metadata": {},
     "output_type": "execute_result"
    }
   ],
   "source": [
    "main.loc[main['Have you ever had suicidal thoughts ?'] == 'Yes', 'Have you ever had suicidal thoughts ?'] = 1\n",
    "main.loc[main['Have you ever had suicidal thoughts ?'] == 'No', 'Have you ever had suicidal thoughts ?'] = 0\n",
    "main['Have you ever had suicidal thoughts ?'].value_counts()"
   ]
  },
  {
   "cell_type": "code",
   "execution_count": 51,
   "id": "cf22faeb-322d-47ac-b64f-74b1c30c00a2",
   "metadata": {},
   "outputs": [
    {
     "data": {
      "text/plain": [
       "Work/Study Hours\n",
       "10    3358\n",
       "12    2443\n",
       "11    2320\n",
       "8     1928\n",
       "6     1758\n",
       "9     1601\n",
       "7     1585\n",
       "0     1272\n",
       "2     1229\n",
       "4     1224\n",
       "3     1098\n",
       "5      994\n",
       "1      889\n",
       "Name: count, dtype: int64"
      ]
     },
     "execution_count": 51,
     "metadata": {},
     "output_type": "execute_result"
    }
   ],
   "source": [
    "main['Work/Study Hours'].value_counts()"
   ]
  },
  {
   "cell_type": "code",
   "execution_count": 53,
   "id": "89159a17-aaaf-4a50-99a9-8965d0e6e8af",
   "metadata": {},
   "outputs": [
    {
     "data": {
      "text/plain": [
       "Financial Stress\n",
       "5.0    5456\n",
       "4.0    4614\n",
       "3.0    4044\n",
       "2.0    3900\n",
       "1.0    3683\n",
       "Name: count, dtype: int64"
      ]
     },
     "execution_count": 53,
     "metadata": {},
     "output_type": "execute_result"
    }
   ],
   "source": [
    "main['Financial Stress'].value_counts()"
   ]
  },
  {
   "cell_type": "code",
   "execution_count": 55,
   "id": "8ee94800-61b2-4b0b-9d47-e19c6f3619bb",
   "metadata": {},
   "outputs": [
    {
     "data": {
      "text/plain": [
       "Family History of Mental Illness\n",
       "No     11190\n",
       "Yes    10509\n",
       "Name: count, dtype: int64"
      ]
     },
     "execution_count": 55,
     "metadata": {},
     "output_type": "execute_result"
    }
   ],
   "source": [
    "main['Family History of Mental Illness'].value_counts()"
   ]
  },
  {
   "cell_type": "code",
   "execution_count": 57,
   "id": "5ba251c7-b0e0-4c0d-8ff6-3163b4fca48d",
   "metadata": {},
   "outputs": [
    {
     "data": {
      "text/plain": [
       "Family History of Mental Illness\n",
       "0    11190\n",
       "1    10509\n",
       "Name: count, dtype: int64"
      ]
     },
     "execution_count": 57,
     "metadata": {},
     "output_type": "execute_result"
    }
   ],
   "source": [
    "main.loc[main['Family History of Mental Illness'] == 'Yes', 'Family History of Mental Illness'] = 1\n",
    "main.loc[main['Family History of Mental Illness'] == 'No', 'Family History of Mental Illness'] = 0\n",
    "main['Family History of Mental Illness'].value_counts()"
   ]
  },
  {
   "cell_type": "code",
   "execution_count": 59,
   "id": "2ea2704c-8add-42e9-b043-85645a227287",
   "metadata": {},
   "outputs": [
    {
     "name": "stdout",
     "output_type": "stream",
     "text": [
      "<class 'pandas.core.frame.DataFrame'>\n",
      "Index: 21699 entries, 1 to 27900\n",
      "Data columns (total 15 columns):\n",
      " #   Column                                 Non-Null Count  Dtype  \n",
      "---  ------                                 --------------  -----  \n",
      " 0   Gender                                 21699 non-null  object \n",
      " 1   Age                                    21699 non-null  int64  \n",
      " 2   City                                   21699 non-null  object \n",
      " 3   Academic Pressure                      21699 non-null  int64  \n",
      " 4   CGPA                                   21699 non-null  float64\n",
      " 5   Study Satisfaction                     21699 non-null  int64  \n",
      " 6   Sleep Duration                         21699 non-null  object \n",
      " 7   Dietary Habits                         21699 non-null  object \n",
      " 8   Degree                                 21699 non-null  object \n",
      " 9   Have you ever had suicidal thoughts ?  21699 non-null  object \n",
      " 10  Work/Study Hours                       21699 non-null  int64  \n",
      " 11  Financial Stress                       21697 non-null  float64\n",
      " 12  Family History of Mental Illness       21699 non-null  object \n",
      " 13  Depression                             21699 non-null  int64  \n",
      " 14  New_Degree                             20491 non-null  object \n",
      "dtypes: float64(2), int64(5), object(8)\n",
      "memory usage: 2.6+ MB\n"
     ]
    }
   ],
   "source": [
    "main.info()"
   ]
  },
  {
   "cell_type": "code",
   "execution_count": 61,
   "id": "b28f8afc-0ca5-431b-9d02-8b1d2a5299ce",
   "metadata": {},
   "outputs": [
    {
     "data": {
      "text/html": [
       "<div>\n",
       "<style scoped>\n",
       "    .dataframe tbody tr th:only-of-type {\n",
       "        vertical-align: middle;\n",
       "    }\n",
       "\n",
       "    .dataframe tbody tr th {\n",
       "        vertical-align: top;\n",
       "    }\n",
       "\n",
       "    .dataframe thead th {\n",
       "        text-align: right;\n",
       "    }\n",
       "</style>\n",
       "<table border=\"1\" class=\"dataframe\">\n",
       "  <thead>\n",
       "    <tr style=\"text-align: right;\">\n",
       "      <th></th>\n",
       "      <th>Age</th>\n",
       "      <th>Academic Pressure</th>\n",
       "      <th>CGPA</th>\n",
       "      <th>Study Satisfaction</th>\n",
       "      <th>Work/Study Hours</th>\n",
       "      <th>Financial Stress</th>\n",
       "      <th>Depression</th>\n",
       "    </tr>\n",
       "  </thead>\n",
       "  <tbody>\n",
       "    <tr>\n",
       "      <th>count</th>\n",
       "      <td>21699.000000</td>\n",
       "      <td>21699.000000</td>\n",
       "      <td>21699.000000</td>\n",
       "      <td>21699.000000</td>\n",
       "      <td>21699.000000</td>\n",
       "      <td>21697.000000</td>\n",
       "      <td>21699.000000</td>\n",
       "    </tr>\n",
       "    <tr>\n",
       "      <th>mean</th>\n",
       "      <td>23.914282</td>\n",
       "      <td>3.193972</td>\n",
       "      <td>7.665148</td>\n",
       "      <td>2.924743</td>\n",
       "      <td>7.207659</td>\n",
       "      <td>3.196341</td>\n",
       "      <td>0.634730</td>\n",
       "    </tr>\n",
       "    <tr>\n",
       "      <th>std</th>\n",
       "      <td>3.692113</td>\n",
       "      <td>1.378077</td>\n",
       "      <td>1.456396</td>\n",
       "      <td>1.365403</td>\n",
       "      <td>3.688414</td>\n",
       "      <td>1.427862</td>\n",
       "      <td>0.481517</td>\n",
       "    </tr>\n",
       "    <tr>\n",
       "      <th>min</th>\n",
       "      <td>18.000000</td>\n",
       "      <td>1.000000</td>\n",
       "      <td>0.000000</td>\n",
       "      <td>1.000000</td>\n",
       "      <td>0.000000</td>\n",
       "      <td>1.000000</td>\n",
       "      <td>0.000000</td>\n",
       "    </tr>\n",
       "    <tr>\n",
       "      <th>25%</th>\n",
       "      <td>21.000000</td>\n",
       "      <td>2.000000</td>\n",
       "      <td>6.350000</td>\n",
       "      <td>2.000000</td>\n",
       "      <td>4.000000</td>\n",
       "      <td>2.000000</td>\n",
       "      <td>0.000000</td>\n",
       "    </tr>\n",
       "    <tr>\n",
       "      <th>50%</th>\n",
       "      <td>24.000000</td>\n",
       "      <td>3.000000</td>\n",
       "      <td>7.770000</td>\n",
       "      <td>3.000000</td>\n",
       "      <td>8.000000</td>\n",
       "      <td>3.000000</td>\n",
       "      <td>1.000000</td>\n",
       "    </tr>\n",
       "    <tr>\n",
       "      <th>75%</th>\n",
       "      <td>27.000000</td>\n",
       "      <td>4.000000</td>\n",
       "      <td>8.910000</td>\n",
       "      <td>4.000000</td>\n",
       "      <td>10.000000</td>\n",
       "      <td>5.000000</td>\n",
       "      <td>1.000000</td>\n",
       "    </tr>\n",
       "    <tr>\n",
       "      <th>max</th>\n",
       "      <td>30.000000</td>\n",
       "      <td>5.000000</td>\n",
       "      <td>10.000000</td>\n",
       "      <td>5.000000</td>\n",
       "      <td>12.000000</td>\n",
       "      <td>5.000000</td>\n",
       "      <td>1.000000</td>\n",
       "    </tr>\n",
       "  </tbody>\n",
       "</table>\n",
       "</div>"
      ],
      "text/plain": [
       "                Age  Academic Pressure          CGPA  Study Satisfaction  \\\n",
       "count  21699.000000       21699.000000  21699.000000        21699.000000   \n",
       "mean      23.914282           3.193972      7.665148            2.924743   \n",
       "std        3.692113           1.378077      1.456396            1.365403   \n",
       "min       18.000000           1.000000      0.000000            1.000000   \n",
       "25%       21.000000           2.000000      6.350000            2.000000   \n",
       "50%       24.000000           3.000000      7.770000            3.000000   \n",
       "75%       27.000000           4.000000      8.910000            4.000000   \n",
       "max       30.000000           5.000000     10.000000            5.000000   \n",
       "\n",
       "       Work/Study Hours  Financial Stress    Depression  \n",
       "count      21699.000000      21697.000000  21699.000000  \n",
       "mean           7.207659          3.196341      0.634730  \n",
       "std            3.688414          1.427862      0.481517  \n",
       "min            0.000000          1.000000      0.000000  \n",
       "25%            4.000000          2.000000      0.000000  \n",
       "50%            8.000000          3.000000      1.000000  \n",
       "75%           10.000000          5.000000      1.000000  \n",
       "max           12.000000          5.000000      1.000000  "
      ]
     },
     "execution_count": 61,
     "metadata": {},
     "output_type": "execute_result"
    }
   ],
   "source": [
    "main.describe()"
   ]
  },
  {
   "cell_type": "code",
   "execution_count": 63,
   "id": "d76d8f6a-2381-4eff-bf08-aafc63f6a874",
   "metadata": {},
   "outputs": [
    {
     "data": {
      "text/plain": [
       "Gender                                    object\n",
       "Age                                        int64\n",
       "City                                      object\n",
       "Academic Pressure                          int64\n",
       "CGPA                                     float64\n",
       "Study Satisfaction                         int64\n",
       "Sleep Duration                            object\n",
       "Dietary Habits                            object\n",
       "Degree                                    object\n",
       "Have you ever had suicidal thoughts ?     object\n",
       "Work/Study Hours                           int64\n",
       "Financial Stress                         float64\n",
       "Family History of Mental Illness          object\n",
       "Depression                                 int64\n",
       "New_Degree                                object\n",
       "dtype: object"
      ]
     },
     "execution_count": 63,
     "metadata": {},
     "output_type": "execute_result"
    }
   ],
   "source": [
    "main.dtypes"
   ]
  },
  {
   "cell_type": "code",
   "execution_count": 65,
   "id": "993e114d-db30-47e8-b59d-e96a8d800243",
   "metadata": {},
   "outputs": [
    {
     "data": {
      "text/plain": [
       "Gender                                      0\n",
       "Age                                         0\n",
       "City                                        0\n",
       "Academic Pressure                           0\n",
       "CGPA                                        0\n",
       "Study Satisfaction                          0\n",
       "Sleep Duration                              0\n",
       "Dietary Habits                              0\n",
       "Degree                                      0\n",
       "Have you ever had suicidal thoughts ?       0\n",
       "Work/Study Hours                            0\n",
       "Financial Stress                            2\n",
       "Family History of Mental Illness            0\n",
       "Depression                                  0\n",
       "New_Degree                               1208\n",
       "dtype: int64"
      ]
     },
     "execution_count": 65,
     "metadata": {},
     "output_type": "execute_result"
    }
   ],
   "source": [
    "main.isnull().sum()"
   ]
  },
  {
   "cell_type": "code",
   "execution_count": 67,
   "id": "9536d2ff-b9a5-4242-85c9-a480ee555907",
   "metadata": {},
   "outputs": [],
   "source": [
    "main = main.dropna()"
   ]
  },
  {
   "cell_type": "code",
   "execution_count": 69,
   "id": "1398b953-7c2d-40c4-8d11-1b9b586bb0d5",
   "metadata": {},
   "outputs": [
    {
     "data": {
      "text/plain": [
       "Gender                                   0\n",
       "Age                                      0\n",
       "City                                     0\n",
       "Academic Pressure                        0\n",
       "CGPA                                     0\n",
       "Study Satisfaction                       0\n",
       "Sleep Duration                           0\n",
       "Dietary Habits                           0\n",
       "Degree                                   0\n",
       "Have you ever had suicidal thoughts ?    0\n",
       "Work/Study Hours                         0\n",
       "Financial Stress                         0\n",
       "Family History of Mental Illness         0\n",
       "Depression                               0\n",
       "New_Degree                               0\n",
       "dtype: int64"
      ]
     },
     "execution_count": 69,
     "metadata": {},
     "output_type": "execute_result"
    }
   ],
   "source": [
    "main.isnull().sum()"
   ]
  },
  {
   "cell_type": "code",
   "execution_count": 71,
   "id": "8477d404-42ff-4ab4-84aa-8552d6de0289",
   "metadata": {},
   "outputs": [
    {
     "data": {
      "text/plain": [
       "0"
      ]
     },
     "execution_count": 71,
     "metadata": {},
     "output_type": "execute_result"
    }
   ],
   "source": [
    "main.duplicated().sum()"
   ]
  },
  {
   "cell_type": "code",
   "execution_count": 73,
   "id": "bf5cd7a7-bca9-49ab-a578-fe15a9c199e8",
   "metadata": {},
   "outputs": [
    {
     "data": {
      "text/plain": [
       "<Axes: ylabel='Depression'>"
      ]
     },
     "execution_count": 73,
     "metadata": {},
     "output_type": "execute_result"
    },
    {
     "data": {
      "image/png": "[encoded data removed]",
      "text/plain": [
       "<Figure size 640x480 with 1 Axes>"
      ]
     },
     "metadata": {},
     "output_type": "display_data"
    }
   ],
   "source": [
    "sns.boxplot(main['Depression'])"
   ]
  },
  {
   "cell_type": "code",
   "execution_count": 75,
   "id": "9e04d44e-5bc7-45a1-b5e2-1258be3199f3",
   "metadata": {},
   "outputs": [
    {
     "data": {
      "text/html": [
       "<div>\n",
       "<style scoped>\n",
       "    .dataframe tbody tr th:only-of-type {\n",
       "        vertical-align: middle;\n",
       "    }\n",
       "\n",
       "    .dataframe tbody tr th {\n",
       "        vertical-align: top;\n",
       "    }\n",
       "\n",
       "    .dataframe thead th {\n",
       "        text-align: right;\n",
       "    }\n",
       "</style>\n",
       "<table border=\"1\" class=\"dataframe\">\n",
       "  <thead>\n",
       "    <tr style=\"text-align: right;\">\n",
       "      <th></th>\n",
       "      <th>Gender</th>\n",
       "      <th>Age</th>\n",
       "      <th>Academic Pressure</th>\n",
       "      <th>CGPA</th>\n",
       "      <th>Study Satisfaction</th>\n",
       "      <th>Sleep Duration</th>\n",
       "      <th>Dietary Habits</th>\n",
       "      <th>Have you ever had suicidal thoughts ?</th>\n",
       "      <th>Work/Study Hours</th>\n",
       "      <th>Financial Stress</th>\n",
       "      <th>Family History of Mental Illness</th>\n",
       "      <th>Depression</th>\n",
       "      <th>New_Degree</th>\n",
       "    </tr>\n",
       "  </thead>\n",
       "  <tbody>\n",
       "    <tr>\n",
       "      <th>1</th>\n",
       "      <td>1</td>\n",
       "      <td>24</td>\n",
       "      <td>2</td>\n",
       "      <td>5.90</td>\n",
       "      <td>5</td>\n",
       "      <td>1</td>\n",
       "      <td>2</td>\n",
       "      <td>0</td>\n",
       "      <td>3</td>\n",
       "      <td>2.0</td>\n",
       "      <td>1</td>\n",
       "      <td>0</td>\n",
       "      <td>0</td>\n",
       "    </tr>\n",
       "    <tr>\n",
       "      <th>3</th>\n",
       "      <td>1</td>\n",
       "      <td>28</td>\n",
       "      <td>3</td>\n",
       "      <td>5.59</td>\n",
       "      <td>2</td>\n",
       "      <td>2</td>\n",
       "      <td>2</td>\n",
       "      <td>1</td>\n",
       "      <td>4</td>\n",
       "      <td>5.0</td>\n",
       "      <td>1</td>\n",
       "      <td>1</td>\n",
       "      <td>0</td>\n",
       "    </tr>\n",
       "    <tr>\n",
       "      <th>4</th>\n",
       "      <td>1</td>\n",
       "      <td>25</td>\n",
       "      <td>4</td>\n",
       "      <td>8.13</td>\n",
       "      <td>3</td>\n",
       "      <td>1</td>\n",
       "      <td>2</td>\n",
       "      <td>1</td>\n",
       "      <td>1</td>\n",
       "      <td>1.0</td>\n",
       "      <td>0</td>\n",
       "      <td>0</td>\n",
       "      <td>1</td>\n",
       "    </tr>\n",
       "  </tbody>\n",
       "</table>\n",
       "</div>"
      ],
      "text/plain": [
       "  Gender  Age  Academic Pressure  CGPA  Study Satisfaction Sleep Duration  \\\n",
       "1      1   24                  2  5.90                   5              1   \n",
       "3      1   28                  3  5.59                   2              2   \n",
       "4      1   25                  4  8.13                   3              1   \n",
       "\n",
       "  Dietary Habits Have you ever had suicidal thoughts ?  Work/Study Hours  \\\n",
       "1              2                                     0                 3   \n",
       "3              2                                     1                 4   \n",
       "4              2                                     1                 1   \n",
       "\n",
       "   Financial Stress Family History of Mental Illness  Depression New_Degree  \n",
       "1               2.0                                1           0          0  \n",
       "3               5.0                                1           1          0  \n",
       "4               1.0                                0           0          1  "
      ]
     },
     "execution_count": 75,
     "metadata": {},
     "output_type": "execute_result"
    }
   ],
   "source": [
    "main_data = main[['Gender', 'Age', 'Academic Pressure', 'CGPA',\n",
    "       'Study Satisfaction', 'Sleep Duration', 'Dietary Habits',\n",
    "       'Have you ever had suicidal thoughts ?', 'Work/Study Hours',\n",
    "       'Financial Stress', 'Family History of Mental Illness', 'Depression',\n",
    "       'New_Degree']]\n",
    "main_data.head(3)"
   ]
  },
  {
   "cell_type": "code",
   "execution_count": 89,
   "id": "4b37aa13-0287-4a18-8a86-70be08f0d35a",
   "metadata": {},
   "outputs": [
    {
     "data": {
      "image/png": "[encoded data removed]",
      "text/plain": [
       "<Figure size 2000x1000 with 2 Axes>"
      ]
     },
     "metadata": {},
     "output_type": "display_data"
    }
   ],
   "source": [
    "plt.figure(figsize=(20, 10))\n",
    "sns.heatmap(main_data.corr(), annot=True, cmap='viridis')\n",
    "plt.show()"
   ]
  },
  {
   "cell_type": "code",
   "execution_count": 91,
   "id": "bc6076a9-02fa-41c9-9fd9-e80bd17168bd",
   "metadata": {},
   "outputs": [
    {
     "data": {
      "text/plain": [
       "Index(['Gender', 'Age', 'City', 'Academic Pressure', 'CGPA',\n",
       "       'Study Satisfaction', 'Sleep Duration', 'Dietary Habits', 'Degree',\n",
       "       'Have you ever had suicidal thoughts ?', 'Work/Study Hours',\n",
       "       'Financial Stress', 'Family History of Mental Illness', 'Depression',\n",
       "       'New_Degree', 'City_Agra', 'City_Ahmedabad', 'City_Bangalore',\n",
       "       'City_Bhopal', 'City_Chennai', 'City_Delhi', 'City_Faridabad',\n",
       "       'City_Ghaziabad', 'City_Hyderabad', 'City_Indore', 'City_Jaipur',\n",
       "       'City_Kalyan', 'City_Kanpur', 'City_Kolkata', 'City_Lucknow',\n",
       "       'City_Ludhiana', 'City_Meerut', 'City_Mumbai', 'City_Nagpur',\n",
       "       'City_Nashik', 'City_Patna', 'City_Pune', 'City_Rajkot',\n",
       "       'City_Srinagar', 'City_Surat', 'City_Thane', 'City_Vadodara',\n",
       "       'City_Varanasi', 'City_Vasai-Virar', 'City_Visakhapatnam'],\n",
       "      dtype='object')"
      ]
     },
     "execution_count": 91,
     "metadata": {},
     "output_type": "execute_result"
    }
   ],
   "source": [
    "encoder = OneHotEncoder(sparse_output=False)  \n",
    "encoded = encoder.fit_transform(main[['City']])\n",
    "encoded_df = pd.DataFrame(encoded, columns=encoder.get_feature_names_out(['City']))\n",
    "\n",
    "encoded_df.index = main.index\n",
    "main_encoded = pd.concat([main, encoded_df], axis=1)\n",
    "\n",
    "main_encoded.columns"
   ]
  },
  {
   "cell_type": "code",
   "execution_count": null,
   "id": "a463ff37-d21a-4c2d-a6ba-d074ef7c53a0",
   "metadata": {},
   "outputs": [],
   "source": []
  },
  {
   "cell_type": "code",
   "execution_count": 96,
   "id": "fa9a434c-e7b7-4cfd-a8ee-c26e4636cec3",
   "metadata": {},
   "outputs": [],
   "source": [
    "main_encoded = main_encoded.drop(['City', 'Degree'], axis=1)"
   ]
  },
  {
   "cell_type": "code",
   "execution_count": 102,
   "id": "87637917-c63e-42ca-8c7f-c58e4dc93724",
   "metadata": {},
   "outputs": [
    {
     "name": "stdout",
     "output_type": "stream",
     "text": [
      "Gradient Boosting Model Accuracy: 85.48%\n",
      "Classification Report for Gradient Boosting Model:\n",
      "              precision    recall  f1-score   support\n",
      "\n",
      "           0       0.82      0.76      0.79      1471\n",
      "           1       0.87      0.91      0.89      2627\n",
      "\n",
      "    accuracy                           0.85      4098\n",
      "   macro avg       0.85      0.83      0.84      4098\n",
      "weighted avg       0.85      0.85      0.85      4098\n",
      "\n"
     ]
    }
   ],
   "source": [
    "X = main_encoded.drop('Depression', axis=1).values  \n",
    "y = main_encoded['Depression'].values  \n",
    "\n",
    "X_train, X_test, y_train, y_test = train_test_split(X, y, test_size=0.2, random_state=42)\n",
    "\n",
    "scaler = StandardScaler()\n",
    "X_train_scaled = scaler.fit_transform(X_train)\n",
    "X_test_scaled = scaler.transform(X_test)\n",
    "\n",
    "from sklearn.ensemble import GradientBoostingClassifier\n",
    "from sklearn.metrics import accuracy_score, classification_report\n",
    "\n",
    "gb_model = GradientBoostingClassifier()\n",
    "\n",
    "gb_model.fit(X_train_scaled, y_train)\n",
    "\n",
    "y_pred_gb = gb_model.predict(X_test_scaled)\n",
    "\n",
    "gb_accuracy = accuracy_score(y_test, y_pred_gb)\n",
    "print(f\"Gradient Boosting Model Accuracy: {gb_accuracy * 100:.2f}%\")\n",
    "\n",
    "gb_classification_report = classification_report(y_test, y_pred_gb)\n",
    "print(\"Classification Report for Gradient Boosting Model:\")\n",
    "print(gb_classification_report)\n"
   ]
  },
  {
   "cell_type": "code",
   "execution_count": 104,
   "id": "e7c54957-2384-415f-a53d-24a3f7f053b5",
   "metadata": {},
   "outputs": [
    {
     "data": {
      "image/png": "[encoded data removed]",
      "text/plain": [
       "<Figure size 600x400 with 2 Axes>"
      ]
     },
     "metadata": {},
     "output_type": "display_data"
    }
   ],
   "source": [
    "y_pred = model.predict(X_test_scaled)\n",
    "cm = confusion_matrix(y_test, y_pred)\n",
    "\n",
    "plt.figure(figsize=(6, 4))\n",
    "sns.heatmap(cm, annot=True, fmt='d', cmap='Blues', xticklabels=['Predicted: 0', 'Predicted: 1'], yticklabels=['Real: 0', 'Real: 1'])\n",
    "plt.title('Confusion Matrix')\n",
    "plt.xlabel('Predicted Values')\n",
    "plt.ylabel('Real Values')\n",
    "plt.show()"
   ]
  },
  {
   "cell_type": "code",
   "execution_count": null,
   "id": "59e471e7-178e-4416-b230-36b14279e04f",
   "metadata": {},
   "outputs": [],
   "source": []
  }
 ],
 "metadata": {
  "kernelspec": {
   "display_name": "Python 3 (ipykernel)",
   "language": "python",
   "name": "python3"
  },
  "language_info": {
   "codemirror_mode": {
    "name": "ipython",
    "version": 3
   },
   "file_extension": ".py",
   "mimetype": "text/x-python",
   "name": "python",
   "nbconvert_exporter": "python",
   "pygments_lexer": "ipython3",
   "version": "3.12.7"
  }
 },
 "nbformat": 4,
 "nbformat_minor": 5
}
